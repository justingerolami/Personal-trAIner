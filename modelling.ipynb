{
 "cells": [
  {
   "cell_type": "code",
   "execution_count": null,
   "metadata": {},
   "outputs": [],
   "source": [
    "import pandas as pd\n",
    "import numpy as np\n",
    "\n",
    "from sklearn import model_selection\n",
    "from sklearn import tree,svm\n",
    "from sklearn.neural_network import MLPClassifier\n",
    "\n",
    "from sklearn.ensemble import RandomForestClassifier, BaggingClassifier, AdaBoostClassifier\n",
    "from sklearn import metrics\n",
    "import seaborn as sn\n",
    "import matplotlib.pyplot as plt"
   ]
  },
  {
   "cell_type": "code",
   "execution_count": null,
   "metadata": {},
   "outputs": [],
   "source": [
    "def normConf(conf):\n",
    "    outputConf = np.zeros([5,5])\n",
    "    accsum = 0\n",
    "    for i in range(len(conf)):\n",
    "        for j in range(len(conf[i])):\n",
    "            outputConf[i][j] = (conf[i][j])/sum(conf[i])\n",
    "        accsum += outputConf[i][i]\n",
    "    acc = accsum/len(conf)\n",
    "    print(\"Acc: \", acc)\n",
    "    return outputConf,acc\n",
    "\n",
    "\n",
    "def plotConf(conf):\n",
    "    df_cm = pd.DataFrame(conf, index = [i for i in \"ABCDE\"],\n",
    "                  columns = [i for i in \"ABCDE\"])\n",
    "    plt.figure(figsize = (10,7))\n",
    "    sn.heatmap(df_cm, annot=True,fmt='g')\n",
    "    ax = plt.axes()\n",
    "    plt.xticks(np.arange(1, 4, step=1))\n",
    "    ax.set_xlabel('Predicted')\n",
    "    ax.set_ylabel('Actual')\n",
    "    plt.show()\n",
    "    return\n",
    "\n",
    "def kcrossfold(X,y, model):\n",
    "    #K-fold Cross Validation\n",
    "    ypred = model_selection.cross_val_predict(model,X, y, cv=10)\n",
    "    print(metrics.accuracy_score(y,ypred))\n",
    "    print(metrics.classification_report(y, ypred))\n",
    "    conf = metrics.confusion_matrix(y, ypred)\n",
    "    #conf, acc = normConf(conf)\n",
    "    plotConf(conf)\n",
    "    #return acc\n",
    "\n",
    "\n",
    "def leaveOneOut(X,y,username,model):\n",
    "    #Leave-One-Group-Out Cross Validation\n",
    "    logo = model_selection.GroupKFold(n_splits=6)\n",
    "    #print(logo.get_n_splits(groups=username))\n",
    "    confArray = np.zeros([5,5])\n",
    "\n",
    "    ypred = model_selection.cross_val_predict(model,X, y, cv=logo, groups=username)\n",
    "    conf = metrics.confusion_matrix(y, ypred)\n",
    "    print(metrics.accuracy_score(y,ypred))\n",
    "    print(metrics.classification_report(y, ypred))\n",
    "   # conf,acc = normConf(conf)\n",
    "    plotConf(conf)\n",
    "    #return acc"
   ]
  },
  {
   "cell_type": "code",
   "execution_count": null,
   "metadata": {},
   "outputs": [],
   "source": [
    "usingCV = False\n",
    "\n",
    "if usingCV:\n",
    "    #filename = \"fs_stats_cv.csv\"\n",
    "    filename = \"fs_raw_cv.csv\"\n",
    "else:\n",
    "    #filename = \"fs_stats_logo.csv\"\n",
    "    filename = \"fs_raw_logo.csv\"\n",
    "df = pd.read_csv(filename, header=0)\n",
    "\n",
    "names = df.user_name\n",
    "y = df.classe\n",
    "X = df.loc[:, ~df.columns.isin(['classe', 'user_name'])]\n",
    "\n",
    "print(X.shape)\n",
    "\n"
   ]
  },
  {
   "cell_type": "code",
   "execution_count": null,
   "metadata": {},
   "outputs": [],
   "source": [
    "#Random Forest Bagging - used in previous study\n",
    "model = RandomForestClassifier(n_estimators=10, max_features = None)\n",
    "bag = BaggingClassifier(model, n_estimators=10)\n",
    "if usingCV:\n",
    "    kcrossfold(X,y,bag)\n",
    "else: \n",
    "    leaveOneOut(X,y,names,bag)"
   ]
  },
  {
   "cell_type": "code",
   "execution_count": null,
   "metadata": {},
   "outputs": [],
   "source": [
    "#1. Decision tree\n",
    "model = tree.DecisionTreeClassifier()\n",
    "\n",
    "if usingCV:\n",
    "    kcrossfold(X,y,model)\n",
    "else:\n",
    "    leaveOneOut(X,y,names,model)"
   ]
  },
  {
   "cell_type": "code",
   "execution_count": null,
   "metadata": {},
   "outputs": [],
   "source": [
    "#2. Decision Tree with Bagging\n",
    "model = tree.DecisionTreeClassifier()\n",
    "bag = BaggingClassifier(model, n_estimators=100)\n",
    "\n",
    "if usingCV:\n",
    "    kcrossfold(X,y,bag)\n",
    "else:\n",
    "    leaveOneOut(X,y,names,bag)"
   ]
  },
  {
   "cell_type": "code",
   "execution_count": null,
   "metadata": {},
   "outputs": [],
   "source": [
    "#Boosted Decision Tree\n",
    "model = tree.DecisionTreeClassifier()\n",
    "clf = AdaBoostClassifier(base_estimator=model,n_estimators=100)\n",
    "\n",
    "if usingCV:\n",
    "    kcrossfold(X,y,clf)\n",
    "else:\n",
    "    leaveOneOut(X,y,names,clf)"
   ]
  },
  {
   "cell_type": "code",
   "execution_count": null,
   "metadata": {},
   "outputs": [],
   "source": [
    "#SVM RBF\n",
    "model = svm.SVC(kernel='rbf', gamma='scale')\n",
    "if usingCV:\n",
    "    kcrossfold(X,y,model)\n",
    "else:\n",
    "    leaveOneOut(X,y,names, model)"
   ]
  },
  {
   "cell_type": "code",
   "execution_count": null,
   "metadata": {},
   "outputs": [],
   "source": [
    "#SVM Linear\n",
    "model = svm.SVC(kernel='linear')\n",
    "if usingCV:\n",
    "    kcrossfold(X,y,model)\n",
    "else:\n",
    "    leaveOneOut(X,y,names, model)"
   ]
  },
  {
   "cell_type": "code",
   "execution_count": null,
   "metadata": {},
   "outputs": [],
   "source": [
    "#SVM Poly\n",
    "model = svm.SVC(kernel='poly', gamma='scale')\n",
    "if usingCV:\n",
    "    kcrossfold(X,y,model)\n",
    "else:\n",
    "    leaveOneOut(X,y,names, model)"
   ]
  },
  {
   "cell_type": "code",
   "execution_count": null,
   "metadata": {},
   "outputs": [],
   "source": [
    "#SVM Sigmoid\n",
    "model = svm.SVC(kernel='sigmoid', gamma='scale')\n",
    "if usingCV:\n",
    "    kcrossfold(X,y,model)\n",
    "else:\n",
    "    leaveOneOut(X,y,names, model)"
   ]
  },
  {
   "cell_type": "code",
   "execution_count": null,
   "metadata": {},
   "outputs": [],
   "source": [
    "#SVM RBF Bagging\n",
    "model = svm.SVC(kernel='rbf', gamma='scale', probability=True)\n",
    "bag = BaggingClassifier(model, n_estimators=5)\n",
    "\n",
    "if usingCV:\n",
    "    kcrossfold(X,y,bag)\n",
    "else:\n",
    "    leaveOneOut(X,y,names, bag)"
   ]
  }
 ],
 "metadata": {
  "kernelspec": {
   "display_name": "Python 3",
   "language": "python",
   "name": "python3"
  },
  "language_info": {
   "codemirror_mode": {
    "name": "ipython",
    "version": 3
   },
   "file_extension": ".py",
   "mimetype": "text/x-python",
   "name": "python",
   "nbconvert_exporter": "python",
   "pygments_lexer": "ipython3",
   "version": "3.7.7"
  }
 },
 "nbformat": 4,
 "nbformat_minor": 1
}
