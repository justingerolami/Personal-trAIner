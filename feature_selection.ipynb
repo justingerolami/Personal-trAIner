{
 "cells": [
  {
   "cell_type": "code",
   "execution_count": 1,
   "metadata": {
    "collapsed": true
   },
   "outputs": [],
   "source": [
    "import pandas as pd\n",
    "import numpy as np\n",
    "\n",
    "from sklearn.feature_selection import RFECV, RFE\n",
    "from sklearn import model_selection\n",
    "from sklearn.ensemble import RandomForestClassifier\n",
    "from sklearn import tree\n",
    "from sklearn import metrics\n",
    "import seaborn as sn\n",
    "import matplotlib.pyplot as plt"
   ]
  },
  {
   "cell_type": "code",
   "execution_count": 101,
   "metadata": {},
   "outputs": [],
   "source": [
    "def normConf(conf):\n",
    "    #outputConf = np.zeros([5,5])\n",
    "    accsum = 0\n",
    "    for i in range(len(conf)):\n",
    "       # for j in range(len(conf[i])):\n",
    "            #outputConf[i][j] = (conf[i][j])/sum(conf[i])\n",
    "        accsum += outputConf[i][i]\n",
    "    acc = accsum/len(conf)\n",
    "    print(\"Acc: \", acc)\n",
    "    return outputConf,acc\n",
    "\n",
    "def plotConf(conf):\n",
    "    df_cm = pd.DataFrame(conf, index = [i for i in \"ABCDE\"],\n",
    "                  columns = [i for i in \"ABCDE\"])\n",
    "    plt.figure(figsize = (10,7))\n",
    "    ax = plt.axes()\n",
    "    sn.heatmap(df_cm, annot=True,fmt='g')\n",
    "    ax.set_xlabel('Predicted')\n",
    "    ax.set_ylabel('Actual')\n",
    "    plt.show()\n",
    "    return\n",
    "\n",
    "def kcrossfold(X,y):\n",
    "    #K-fold Cross Validation\n",
    "    model = tree.DecisionTreeClassifier()\n",
    "    ypred = model_selection.cross_val_predict(model,X, y, cv=10)\n",
    "    conf = metrics.confusion_matrix(y, ypred)\n",
    "    print(metrics.accuracy_score(y,ypred))\n",
    "    print(metrics.classification_report(y, ypred))\n",
    "    plotConf(conf)\n",
    "    return acc\n",
    "\n",
    "\n",
    "def leaveOneOut(X,y,username):\n",
    "    #Leave-One-Group-Out Cross Validation\n",
    "    logo = model_selection.GroupKFold(n_splits=6)\n",
    "    #print(logo.get_n_splits(groups=username))\n",
    "    confArray = np.zeros([2,2])\n",
    "    model = tree.DecisionTreeClassifier()\n",
    "    ypred = model_selection.cross_val_predict(model,X, y, cv=logo, groups=username)\n",
    "    conf = metrics.confusion_matrix(y, ypred)\n",
    "    print(metrics.accuracy_score(y,ypred))\n",
    "    print(metrics.classification_report(y, ypred))\n",
    "    plotConf(conf)\n",
    "    return acc\n",
    "\n",
    "\n",
    "def experimentFS(X,y,names,cval):\n",
    "    \n",
    "    estimator = RandomForestClassifier(n_estimators=100)\n",
    "    \n",
    "    if cval == False:\n",
    "        logo = model_selection.GroupKFold(n_splits=6)\n",
    "        selector = RFECV(estimator=estimator, step=1, cv=logo,scoring='accuracy')\n",
    "        selector.fit(X,y,groups=names)\n",
    "    \n",
    "    else:\n",
    "        #10-fold instead of leave one out\n",
    "        #selector = RFECV(estimator=estimator, step=1, cv=10,scoring='accuracy')\n",
    "        selector = RFE(estimator=estimator, step=1, n_features_to_select=10)\n",
    "        selector.fit(X,y)\n",
    "    \n",
    "    support = selector.support_\n",
    "    '''\n",
    "    scores = selector.grid_scores_\n",
    "\n",
    "    print(\"Optimal number of features : %d\" % selector.n_features_)\n",
    "    # Plot number of features VS. cross-validation scores\n",
    "    plt.figure()\n",
    "    plt.xlabel(\"Number of features selected\")\n",
    "    plt.ylabel(\"Cross validation score (nb of correct classifications)\")\n",
    "    plt.plot(range(1, len(selector.grid_scores_) + 1), selector.grid_scores_)\n",
    "    plt.show()\n",
    "    '''\n",
    "    print(\"--------\")\n",
    "    return support\n",
    "\n",
    "def plotAcc(acclist, pcntlist):\n",
    "    plot, ax = plt.subplots(1,1)\n",
    "    plt.xlabel('Percent of Original Features Used')\n",
    "    plt.ylabel('Accuracy (%)')\n",
    "    acclist = [x*100 for x in acclist]\n",
    "    ax.xaxis.set_ticks(np.arange(0, 20, 1))\n",
    "    ax.set_xticklabels(pcntlist)\n",
    "    plt.plot(acclist)\n",
    "    plt.show()"
   ]
  },
  {
   "cell_type": "code",
   "execution_count": 93,
   "metadata": {},
   "outputs": [],
   "source": [
    "filename = \"normalized_stats.csv\"\n",
    "df = pd.read_csv(filename, header=0)\n",
    "names = df.user_name\n",
    "y = df.classe\n",
    "X = df.loc[:, ~df.columns.isin(['user_name', 'classe'])]"
   ]
  },
  {
   "cell_type": "code",
   "execution_count": 72,
   "metadata": {},
   "outputs": [
    {
     "name": "stdout",
     "output_type": "stream",
     "text": [
      "Optimal number of features : 47\n--------\n"
     ]
    }
   ],
   "source": [
    "scores,support = experimentFS(X,y,names, cval=False)"
   ]
  },
  {
   "cell_type": "code",
   "execution_count": 80,
   "metadata": {},
   "outputs": [],
   "source": [
    "finalX_logo = X[X.columns[support]]\n",
    "finalX_logo.insert(loc=0, column='user_name', value=names)\n",
    "finalX_logo.insert(loc=len(finalX_logo.columns), column='classe', value=y)\n",
    "finalX_logo.to_csv(\"fs_stats_logo.csv\", index=False, header=True)"
   ]
  },
  {
   "cell_type": "code",
   "execution_count": 76,
   "metadata": {},
   "outputs": [
    {
     "name": "stdout",
     "output_type": "stream",
     "text": [
      "Optimal number of features : 24\n--------\n"
     ]
    }
   ],
   "source": [
    "scoresCV, supportCV = experimentFS(X,y,names,cval=True)"
   ]
  },
  {
   "cell_type": "code",
   "execution_count": 81,
   "metadata": {},
   "outputs": [],
   "source": [
    "finalX_cv = X[X.columns[supportCV]]\n",
    "finalX_cv.insert(loc=0, column='user_name', value=names)\n",
    "finalX_cv.insert(loc=len(finalX_cv.columns), column='classe', value=y)\n",
    "finalX_cv.to_csv(\"fs_stats_cv.csv\", index=False, header=True)"
   ]
  },
  {
   "cell_type": "code",
   "execution_count": 104,
   "metadata": {},
   "outputs": [],
   "source": [
    "filename = \"normalized_raw.csv\"\n",
    "df = pd.read_csv(filename, header=0)\n",
    "names = df.user_name\n",
    "num_window = df.num_window\n",
    "y = df.classe\n",
    "X = df.loc[:, ~df.columns.isin(['user_name', 'num_window','classe'])]"
   ]
  },
  {
   "cell_type": "code",
   "execution_count": 95,
   "metadata": {},
   "outputs": [
    {
     "name": "stdout",
     "output_type": "stream",
     "text": [
      "Optimal number of features : 30\n--------\n"
     ]
    }
   ],
   "source": [
    "raw_scores_logo,raw_support_logo = experimentFS(X,y,names, cval=False)"
   ]
  },
  {
   "cell_type": "code",
   "execution_count": 110,
   "metadata": {},
   "outputs": [],
   "source": [
    "finalX_raw_logo = X[X.columns[raw_support_logo]]\n",
    "finalX_raw_logo.insert(loc=0, column='user_name', value=names)\n",
    "finalX_raw_logo.insert(loc=1, column='num_window', value=num_window)\n",
    "finalX_raw_logo.insert(loc=len(finalX_raw_logo.columns), column='classe', value=y)\n",
    "finalX_raw_logo.to_csv(\"fs_raw_logo.csv\", index=False, header=True)"
   ]
  },
  {
   "cell_type": "code",
   "execution_count": 108,
   "metadata": {
    "collapsed": true
   },
   "outputs": [],
   "source": [
    "estimator = RandomForestClassifier(n_estimators=100)\n",
    "selector = RFE(estimator=estimator, step=1, n_features_to_select=10)\n",
    "selector.fit(X,y)\n",
    "support = selector.support_"
   ]
  },
  {
   "cell_type": "code",
   "execution_count": 112,
   "metadata": {},
   "outputs": [],
   "source": [
    "finalX_raw_cv = X[X.columns[support]]\n",
    "finalX_raw_cv.insert(loc=0, column='user_name', value=names)\n",
    "finalX_raw_cv.insert(loc=1, column='num_window', value=num_window)\n",
    "finalX_raw_cv.insert(loc=len(finalX_raw_cv.columns), column='classe', value=y)\n",
    "finalX_raw_cv.to_csv(\"fs_raw_cv.csv\", index=False, header=True)"
   ]
  },
  {
   "cell_type": "code",
   "execution_count": null,
   "metadata": {},
   "outputs": [],
   "source": []
  }
 ],
 "metadata": {
  "kernelspec": {
   "display_name": "Python 2",
   "language": "python",
   "name": "python2"
  },
  "language_info": {
   "codemirror_mode": {
    "name": "ipython",
    "version": 2
   },
   "file_extension": ".py",
   "mimetype": "text/x-python",
   "name": "python",
   "nbconvert_exporter": "python",
   "pygments_lexer": "ipython2",
   "version": "2.7.6"
  }
 },
 "nbformat": 4,
 "nbformat_minor": 0
}
