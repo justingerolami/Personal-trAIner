{
 "cells": [
  {
   "cell_type": "code",
   "execution_count": null,
   "metadata": {},
   "outputs": [],
   "source": [
    "import numpy as np\n",
    "import pandas as pd\n",
    "import impyute\n",
    "import matplotlib.pyplot as plt\n",
    "from sklearn import preprocessing"
   ]
  },
  {
   "cell_type": "code",
   "execution_count": null,
   "metadata": {},
   "outputs": [],
   "source": [
    "def loadfile(filename):\n",
    "    #Load in the specified csv file\n",
    "    file = pd.read_csv(filename,header=0)\n",
    "    file = file.replace(\"#DIV/0!\", np.nan)\n",
    "    return file\n",
    "\n",
    "def getMissingFeatures(file, filename):\n",
    "    #Provides a report on the missing percentage of each feature\n",
    "    if 'stats' in filename:\n",
    "        end = 35\n",
    "    else:\n",
    "        end = 5\n",
    "    \n",
    "    columns = file.columns\n",
    "    percent_missing = file.isnull().sum() * 100 / len(file)\n",
    "    missing_value_stats = pd.DataFrame({'column_name': columns,\n",
    "                                 'percent_missing': percent_missing})\n",
    "\n",
    "    missing_value_stats.sort_values(by=['percent_missing'],inplace=True, ascending=False)\n",
    "    plt.bar(missing_value_stats['column_name'][0:end],missing_value_stats['percent_missing'][0:end])\n",
    "    plt.xticks(rotation=90)\n",
    "    plt.xlabel('Features')\n",
    "    plt.ylabel('Percent Missing')\n",
    "    plt.show()\n",
    "    numMissing = missing_value_stats['percent_missing'].astype(bool).sum(axis=0)\n",
    "    print(\"Number of features with missing values: \",numMissing)\n",
    "    print(\"Percent missing: \", missing_value_stats['percent_missing'][0:numMissing])\n",
    "    return\n",
    "\n",
    "def imputeAndNormalize(file,filename):\n",
    "    #drop the columns with 100% missing\n",
    "    file = file.loc[:, file.isnull().mean() < 1]\n",
    "    \n",
    "    if 'stats' in filename:\n",
    "        numericVals = file.loc[:, ~file.columns.isin(['user_name', 'classe'])]\n",
    "    else:\n",
    "        numericVals = file.loc[:, ~file.columns.isin(['user_name','num_window','classe'])]\n",
    "    \n",
    "    numericValsRep = numericVals.values\n",
    "    numericValsRep = numericValsRep.astype(float)\n",
    "    imputed = impyute.em(numericValsRep)\n",
    "    imputed = preprocessing.scale(imputed)\n",
    "    \n",
    "    out = pd.DataFrame(imputed, columns=numericVals.columns)\n",
    "    out.insert(loc=0, column='user_name', value=file.user_name)\n",
    "    if 'raw' in filename:\n",
    "        #There is an extra column to include for the raw data\n",
    "        out.insert(loc=1, column='num_window', value=file.num_window)\n",
    "    out.insert(loc=len(out.columns), column='classe', value=file.classe)\n",
    "    \n",
    "    out.classe = out.classe.replace(\"A\", 0)\n",
    "    out.classe = out.classe.replace(\"B\", 1)\n",
    "    out.classe = out.classe.replace(\"C\", 2)\n",
    "    out.classe = out.classe.replace(\"D\", 3)\n",
    "    out.classe = out.classe.replace(\"E\", 4)\n",
    "\n",
    "    saveFileName = 'normalized_' + filename\n",
    "    out.to_csv(saveFileName, index=False, header=True)\n",
    "    return"
   ]
  },
  {
   "cell_type": "code",
   "execution_count": null,
   "metadata": {},
   "outputs": [],
   "source": [
    "statsfile = \"stats.csv\"\n",
    "rawfile = \"raw.csv\"\n",
    "\n",
    "stats = loadfile(statsfile)\n",
    "raw = loadfile(rawfile)\n",
    "\n",
    "getMissingFeatures(stats,statsfile)\n",
    "getMissingFeatures(raw,rawfile)\n",
    "\n",
    "imputeAndNormalize(stats,statsfile)\n",
    "imputeAndNormalize(raw, rawfile)"
   ]
  }
 ],
 "metadata": {
  "kernelspec": {
   "display_name": "Python 3",
   "language": "python",
   "name": "python3"
  },
  "language_info": {
   "codemirror_mode": {
    "name": "ipython",
    "version": 3
   },
   "file_extension": ".py",
   "mimetype": "text/x-python",
   "name": "python",
   "nbconvert_exporter": "python",
   "pygments_lexer": "ipython3",
   "version": "3.7.7"
  }
 },
 "nbformat": 4,
 "nbformat_minor": 1
}
