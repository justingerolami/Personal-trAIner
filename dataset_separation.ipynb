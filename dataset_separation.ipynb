{
 "cells": [
  {
   "cell_type": "code",
   "execution_count": 3,
   "metadata": {},
   "outputs": [],
   "source": [
    "import pandas as pd"
   ]
  },
  {
   "cell_type": "code",
   "execution_count": 4,
   "metadata": {},
   "outputs": [
    {
     "name": "stdout",
     "output_type": "stream",
     "text": [
      "(39242, 159)\n"
     ]
    },
    {
     "name": "stderr",
     "output_type": "stream",
     "text": [
      "C:\\Users\\Justin\\anaconda3\\envs\\masters\\lib\\site-packages\\IPython\\core\\interactiveshell.py:3063: DtypeWarning: Columns (10,13,18,21,24,67,68,69,70,71,72,85,86,88,89,93,96,99,123,124,126,127,131,134,137) have mixed types.Specify dtype option on import or set low_memory=False.\n",
      "  interactivity=interactivity, compiler=compiler, result=result)\n"
     ]
    }
   ],
   "source": [
    "#Read in specified filename as pandas dataframe\n",
    "filename = \"data.csv\"\n",
    "data = pd.read_csv(filename,header=0)\n",
    "data = data.sample(frac=1).reset_index(drop=True)\n",
    "print(data.shape)"
   ]
  },
  {
   "cell_type": "code",
   "execution_count": 5,
   "metadata": {},
   "outputs": [
    {
     "name": "stdout",
     "output_type": "stream",
     "text": [
      "(39242, 55)\n"
     ]
    }
   ],
   "source": [
    "#just the raw data\n",
    "nonStatsRow = data.loc[:, data.isnull().mean() < .8]\n",
    "nonStatsRow = nonStatsRow.drop(nonStatsRow.columns[[1,2,3,4]], axis=1)\n",
    "print(nonStatsRow.shape)\n",
    "nonStatsRow.to_csv('raw.csv', index=False, header=True)"
   ]
  },
  {
   "cell_type": "code",
   "execution_count": 6,
   "metadata": {},
   "outputs": [
    {
     "name": "stdout",
     "output_type": "stream",
     "text": [
      "(839, 102)\n"
     ]
    }
   ],
   "source": [
    "#just the stats data\n",
    "statsRow = data[data['new_window'] == 'yes']\n",
    "\n",
    "#drop unneccessary features (time stamp)\n",
    "statsRow = statsRow.drop(statsRow.columns[[1,2,3,4,5]], axis=1)\n",
    "statsRow = statsRow.drop(nonStatsRow.columns[2:len(nonStatsRow.columns)-1],axis=1)\n",
    "print(statsRow.shape)\n",
    "statsRow.to_csv('stats.csv', index=False, header=True)\n",
    "\n"
   ]
  }
 ],
 "metadata": {
  "kernelspec": {
   "display_name": "Python 3",
   "language": "python",
   "name": "python3"
  },
  "language_info": {
   "codemirror_mode": {
    "name": "ipython",
    "version": 3
   },
   "file_extension": ".py",
   "mimetype": "text/x-python",
   "name": "python",
   "nbconvert_exporter": "python",
   "pygments_lexer": "ipython3",
   "version": "3.7.7"
  }
 },
 "nbformat": 4,
 "nbformat_minor": 1
}
